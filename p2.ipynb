{
  "nbformat": 4,
  "nbformat_minor": 0,
  "metadata": {
    "colab": {
      "provenance": []
    },
    "kernelspec": {
      "name": "python3",
      "display_name": "Python 3"
    },
    "language_info": {
      "name": "python"
    }
  },
  "cells": [
    {
      "cell_type": "markdown",
      "source": [
        "**Program 2: Implement a basic neural network (one or two hidden layers) in Python using libraries like TensorFlow or Keras. Use diabetes dataset, Cancer dataset and Sonar dataset. Activation functions – Sigmoid, tanh, ReLU or Softmax.**"
      ],
      "metadata": {
        "id": "AOCFk39JsVRv"
      }
    },
    {
      "cell_type": "code",
      "source": [
        "pip install tensorflow"
      ],
      "metadata": {
        "colab": {
          "base_uri": "https://localhost:8080/"
        },
        "id": "5O6eaHG5xKW7",
        "outputId": "3ce7d626-80bb-4192-d200-6a661e07c7cc"
      },
      "execution_count": 2,
      "outputs": [
        {
          "output_type": "stream",
          "name": "stdout",
          "text": [
            "Requirement already satisfied: tensorflow in /usr/local/lib/python3.10/dist-packages (2.17.1)\n",
            "Requirement already satisfied: absl-py>=1.0.0 in /usr/local/lib/python3.10/dist-packages (from tensorflow) (1.4.0)\n",
            "Requirement already satisfied: astunparse>=1.6.0 in /usr/local/lib/python3.10/dist-packages (from tensorflow) (1.6.3)\n",
            "Requirement already satisfied: flatbuffers>=24.3.25 in /usr/local/lib/python3.10/dist-packages (from tensorflow) (24.3.25)\n",
            "Requirement already satisfied: gast!=0.5.0,!=0.5.1,!=0.5.2,>=0.2.1 in /usr/local/lib/python3.10/dist-packages (from tensorflow) (0.6.0)\n",
            "Requirement already satisfied: google-pasta>=0.1.1 in /usr/local/lib/python3.10/dist-packages (from tensorflow) (0.2.0)\n",
            "Requirement already satisfied: h5py>=3.10.0 in /usr/local/lib/python3.10/dist-packages (from tensorflow) (3.12.1)\n",
            "Requirement already satisfied: libclang>=13.0.0 in /usr/local/lib/python3.10/dist-packages (from tensorflow) (18.1.1)\n",
            "Requirement already satisfied: ml-dtypes<0.5.0,>=0.3.1 in /usr/local/lib/python3.10/dist-packages (from tensorflow) (0.4.1)\n",
            "Requirement already satisfied: opt-einsum>=2.3.2 in /usr/local/lib/python3.10/dist-packages (from tensorflow) (3.4.0)\n",
            "Requirement already satisfied: packaging in /usr/local/lib/python3.10/dist-packages (from tensorflow) (24.2)\n",
            "Requirement already satisfied: protobuf!=4.21.0,!=4.21.1,!=4.21.2,!=4.21.3,!=4.21.4,!=4.21.5,<5.0.0dev,>=3.20.3 in /usr/local/lib/python3.10/dist-packages (from tensorflow) (4.25.5)\n",
            "Requirement already satisfied: requests<3,>=2.21.0 in /usr/local/lib/python3.10/dist-packages (from tensorflow) (2.32.3)\n",
            "Requirement already satisfied: setuptools in /usr/local/lib/python3.10/dist-packages (from tensorflow) (75.1.0)\n",
            "Requirement already satisfied: six>=1.12.0 in /usr/local/lib/python3.10/dist-packages (from tensorflow) (1.17.0)\n",
            "Requirement already satisfied: termcolor>=1.1.0 in /usr/local/lib/python3.10/dist-packages (from tensorflow) (2.5.0)\n",
            "Requirement already satisfied: typing-extensions>=3.6.6 in /usr/local/lib/python3.10/dist-packages (from tensorflow) (4.12.2)\n",
            "Requirement already satisfied: wrapt>=1.11.0 in /usr/local/lib/python3.10/dist-packages (from tensorflow) (1.17.0)\n",
            "Requirement already satisfied: grpcio<2.0,>=1.24.3 in /usr/local/lib/python3.10/dist-packages (from tensorflow) (1.68.1)\n",
            "Requirement already satisfied: tensorboard<2.18,>=2.17 in /usr/local/lib/python3.10/dist-packages (from tensorflow) (2.17.1)\n",
            "Requirement already satisfied: keras>=3.2.0 in /usr/local/lib/python3.10/dist-packages (from tensorflow) (3.5.0)\n",
            "Requirement already satisfied: tensorflow-io-gcs-filesystem>=0.23.1 in /usr/local/lib/python3.10/dist-packages (from tensorflow) (0.37.1)\n",
            "Requirement already satisfied: numpy<2.0.0,>=1.23.5 in /usr/local/lib/python3.10/dist-packages (from tensorflow) (1.26.4)\n",
            "Requirement already satisfied: wheel<1.0,>=0.23.0 in /usr/local/lib/python3.10/dist-packages (from astunparse>=1.6.0->tensorflow) (0.45.1)\n",
            "Requirement already satisfied: rich in /usr/local/lib/python3.10/dist-packages (from keras>=3.2.0->tensorflow) (13.9.4)\n",
            "Requirement already satisfied: namex in /usr/local/lib/python3.10/dist-packages (from keras>=3.2.0->tensorflow) (0.0.8)\n",
            "Requirement already satisfied: optree in /usr/local/lib/python3.10/dist-packages (from keras>=3.2.0->tensorflow) (0.13.1)\n",
            "Requirement already satisfied: charset-normalizer<4,>=2 in /usr/local/lib/python3.10/dist-packages (from requests<3,>=2.21.0->tensorflow) (3.4.0)\n",
            "Requirement already satisfied: idna<4,>=2.5 in /usr/local/lib/python3.10/dist-packages (from requests<3,>=2.21.0->tensorflow) (3.10)\n",
            "Requirement already satisfied: urllib3<3,>=1.21.1 in /usr/local/lib/python3.10/dist-packages (from requests<3,>=2.21.0->tensorflow) (2.2.3)\n",
            "Requirement already satisfied: certifi>=2017.4.17 in /usr/local/lib/python3.10/dist-packages (from requests<3,>=2.21.0->tensorflow) (2024.12.14)\n",
            "Requirement already satisfied: markdown>=2.6.8 in /usr/local/lib/python3.10/dist-packages (from tensorboard<2.18,>=2.17->tensorflow) (3.7)\n",
            "Requirement already satisfied: tensorboard-data-server<0.8.0,>=0.7.0 in /usr/local/lib/python3.10/dist-packages (from tensorboard<2.18,>=2.17->tensorflow) (0.7.2)\n",
            "Requirement already satisfied: werkzeug>=1.0.1 in /usr/local/lib/python3.10/dist-packages (from tensorboard<2.18,>=2.17->tensorflow) (3.1.3)\n",
            "Requirement already satisfied: MarkupSafe>=2.1.1 in /usr/local/lib/python3.10/dist-packages (from werkzeug>=1.0.1->tensorboard<2.18,>=2.17->tensorflow) (3.0.2)\n",
            "Requirement already satisfied: markdown-it-py>=2.2.0 in /usr/local/lib/python3.10/dist-packages (from rich->keras>=3.2.0->tensorflow) (3.0.0)\n",
            "Requirement already satisfied: pygments<3.0.0,>=2.13.0 in /usr/local/lib/python3.10/dist-packages (from rich->keras>=3.2.0->tensorflow) (2.18.0)\n",
            "Requirement already satisfied: mdurl~=0.1 in /usr/local/lib/python3.10/dist-packages (from markdown-it-py>=2.2.0->rich->keras>=3.2.0->tensorflow) (0.1.2)\n"
          ]
        }
      ]
    },
    {
      "cell_type": "code",
      "source": [
        "import numpy as np\n",
        "import pandas as pd\n",
        "from sklearn.datasets import load_diabetes, load_breast_cancer\n",
        "from sklearn.model_selection import train_test_split\n",
        "from sklearn.preprocessing import StandardScaler, LabelEncoder\n",
        "from tensorflow.keras.models import Sequential\n",
        "from tensorflow.keras.layers import Dense, Input\n",
        "from tensorflow.keras.utils import to_categorical\n",
        "\n",
        "# Load datasets\n",
        "def load_datasets():\n",
        "    # Diabetes dataset\n",
        "    diabetes = load_diabetes()\n",
        "    X_diabetes, y_diabetes = diabetes.data, diabetes.target\n",
        "\n",
        "    # Cancer dataset\n",
        "    cancer = load_breast_cancer()\n",
        "    X_cancer, y_cancer = cancer.data, cancer.target\n",
        "\n",
        "    # Sonar dataset\n",
        "    sonar_data = pd.read_csv('https://archive.ics.uci.edu/ml/machine-learning-databases/undocumented/connectionist-bench/sonar/sonar.all-data', header=None)\n",
        "    X_sonar = sonar_data.iloc[:, :-1].values\n",
        "    y_sonar = LabelEncoder().fit_transform(sonar_data.iloc[:, -1])\n",
        "\n",
        "    return (X_diabetes, y_diabetes), (X_cancer, y_cancer), (X_sonar, y_sonar)\n",
        "\n",
        "# Preprocess datasets\n",
        "def preprocess_data(X, y, classification=False):\n",
        "    scaler = StandardScaler()\n",
        "    X = scaler.fit_transform(X)\n",
        "    if classification:\n",
        "        y = to_categorical(y)\n",
        "    return X, y\n",
        "\n",
        "# Build a neural network\n",
        "def build_model(input_dim, output_dim, activation='relu', classification=False):\n",
        "    model = Sequential()\n",
        "    model.add(Input(shape=(input_dim,)))  # Define the input shape here\n",
        "    model.add(Dense(64, activation=activation))\n",
        "    model.add(Dense(32, activation=activation))\n",
        "    if classification:\n",
        "        model.add(Dense(output_dim, activation='softmax'))\n",
        "        model.compile(optimizer='adam', loss='categorical_crossentropy', metrics=['accuracy'])\n",
        "    else:\n",
        "        model.add(Dense(1, activation='linear'))\n",
        "        model.compile(optimizer='adam', loss='mse', metrics=['mse'])\n",
        "    return model\n",
        "\n",
        "# Train and evaluate the model\n",
        "def train_and_evaluate(X_train, X_test, y_train, y_test, model):\n",
        "    model.fit(X_train, y_train, epochs=20, batch_size=32, verbose=0)\n",
        "    metrics = model.evaluate(X_test, y_test, verbose=0)\n",
        "    return metrics\n",
        "\n",
        "# Main\n",
        "(X_diabetes, y_diabetes), (X_cancer, y_cancer), (X_sonar, y_sonar) = load_datasets()\n",
        "\n",
        "# Process datasets\n",
        "X_diabetes, y_diabetes = preprocess_data(X_diabetes, y_diabetes)\n",
        "X_cancer, y_cancer = preprocess_data(X_cancer, y_cancer, classification=True)\n",
        "X_sonar, y_sonar = preprocess_data(X_sonar, y_sonar, classification=True)\n",
        "\n",
        "# Split datasets\n",
        "X_d_train, X_d_test, y_d_train, y_d_test = train_test_split(X_diabetes, y_diabetes, test_size=0.2, random_state=42)\n",
        "X_c_train, X_c_test, y_c_train, y_c_test = train_test_split(X_cancer, y_cancer, test_size=0.2, random_state=42)\n",
        "X_s_train, X_s_test, y_s_train, y_s_test = train_test_split(X_sonar, y_sonar, test_size=0.2, random_state=42)\n",
        "\n",
        "# Train and evaluate models for each dataset\n",
        "activations = ['relu', 'sigmoid', 'tanh']\n",
        "\n",
        "for activation in activations:\n",
        "    print(f\"\\nActivation Function: {activation}\\n\")\n",
        "\n",
        "    # Diabetes (Regression)\n",
        "    model_diabetes = build_model(X_diabetes.shape[1], 1, activation=activation, classification=False)\n",
        "    mse_diabetes, _ = train_and_evaluate(X_d_train, X_d_test, y_d_train, y_d_test, model_diabetes)\n",
        "    print(f\"Diabetes Dataset MSE: {mse_diabetes:.4f}\")\n",
        "\n",
        "    # Cancer (Classification)\n",
        "    model_cancer = build_model(X_cancer.shape[1], y_cancer.shape[1], activation=activation, classification=True)\n",
        "    loss_cancer, acc_cancer = train_and_evaluate(X_c_train, X_c_test, y_c_train, y_c_test, model_cancer)\n",
        "    print(f\"Cancer Dataset Accuracy: {acc_cancer:.4f}\")\n",
        "\n",
        "    # Sonar (Classification)\n",
        "    model_sonar = build_model(X_sonar.shape[1], y_sonar.shape[1], activation=activation, classification=True)\n",
        "    loss_sonar, acc_sonar = train_and_evaluate(X_s_train, X_s_test, y_s_train, y_s_test, model_sonar)\n",
        "    print(f\"Sonar Dataset Accuracy: {acc_sonar:.4f}\")\n"
      ],
      "metadata": {
        "id": "zs9qPZ7Ird3F",
        "colab": {
          "base_uri": "https://localhost:8080/"
        },
        "outputId": "57479e80-5b9f-4c91-d12b-827a9cdedd68"
      },
      "execution_count": 3,
      "outputs": [
        {
          "output_type": "stream",
          "name": "stdout",
          "text": [
            "\n",
            "Activation Function: relu\n",
            "\n",
            "Diabetes Dataset MSE: 4664.6704\n",
            "Cancer Dataset Accuracy: 0.9649\n",
            "Sonar Dataset Accuracy: 0.8810\n",
            "\n",
            "Activation Function: sigmoid\n",
            "\n",
            "Diabetes Dataset MSE: 24595.4180\n",
            "Cancer Dataset Accuracy: 0.9912\n",
            "Sonar Dataset Accuracy: 0.7857\n",
            "\n",
            "Activation Function: tanh\n",
            "\n",
            "Diabetes Dataset MSE: 22386.8672\n",
            "Cancer Dataset Accuracy: 0.9825\n",
            "Sonar Dataset Accuracy: 0.8333\n"
          ]
        }
      ]
    }
  ]
}